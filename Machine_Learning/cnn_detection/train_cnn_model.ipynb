version https://git-lfs.github.com/spec/v1
oid sha256:7aaeab6316bb1d805f35dd83be71050a3e44be96bcf76f13646d12128d3a5704
size 5390973
